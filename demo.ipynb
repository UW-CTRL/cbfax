{
 "cells": [
  {
   "cell_type": "code",
   "execution_count": 1,
   "metadata": {},
   "outputs": [],
   "source": [
    "import jax\n",
    "import jax.numpy as jnp\n",
    "import numpy as np\n",
    "\n",
    "import matplotlib.pyplot as plt\n",
    "from ipywidgets import interact\n",
    "\n",
    "from cbfax.dynamics import *\n",
    "from cbfax.cbf import *\n",
    "from cbfax.plotting import plot_halfspace\n"
   ]
  },
  {
   "cell_type": "code",
   "execution_count": 2,
   "metadata": {},
   "outputs": [],
   "source": [
    "def plot_cbf(barrier_func, th, xlim=(-10, 10), ylim=(-10, 10)):\n",
    "    # Create a grid of points\n",
    "    x = np.linspace(xlim[0], xlim[1], 400)\n",
    "    y = np.linspace(ylim[0], ylim[1], 400)\n",
    "    X, Y = np.meshgrid(x, y)\n",
    "\n",
    "    # Calculate the CBF values\n",
    "    H = jax.vmap(barrier_func)(jnp.stack([X.reshape([-1]), Y.reshape([-1]), jnp.ones_like(X.reshape([-1]))*th], 1)).reshape(400,400)\n",
    "\n",
    "\n",
    "    # Plot the CBF\n",
    "    plt.contourf(X, Y, H >= 0, alpha=0.2, colors=['#ff9999', '#99ff99'])\n",
    "    plt.contourf(X, Y, H, alpha=0.1)\n",
    "    plt.contour(X, Y, H, levels=[0], colors='black')\n",
    "\n",
    "    # Set the limits and labels\n",
    "    plt.xlim(xlim)\n",
    "    plt.ylim(ylim)\n",
    "    plt.xlabel('x')\n",
    "    plt.ylabel('y')\n",
    "    # plt.title(f'Control Barrier Function: {a}x^2 + {b}y^2 + {c}')\n",
    "\n",
    "    plt.grid(True)\n",
    "    plt.axhline(0, color='black', linewidth=0.5)\n",
    "    plt.axvline(0, color='black', linewidth=0.5)"
   ]
  },
  {
   "cell_type": "code",
   "execution_count": null,
   "metadata": {},
   "outputs": [
    {
     "data": {
      "application/vnd.jupyter.widget-view+json": {
       "model_id": "0b9b75436e2f4d6496777f558049c1ff",
       "version_major": 2,
       "version_minor": 0
      },
      "text/plain": [
       "interactive(children=(FloatSlider(value=0.0, description='x', max=5.0, min=-5.0, step=0.2), FloatSlider(value=…"
      ]
     },
     "metadata": {},
     "output_type": "display_data"
    }
   ],
   "source": [
    "dynamics = SimpleCar(wheelbase=2)\n",
    "state = jnp.ones(dynamics.state_dim)\n",
    "time = 0.\n",
    "\n",
    "alpha = lambda x: 1 * x\n",
    "radius = 1.\n",
    "cbfs = [lambda x: jnp.linalg.norm(x[:2], axis=0)**2 - radius**2, lambda x: jnp.dot(x[:2], jnp.array([jnp.cos(x[2]), jnp.sin(x[2])])) / jnp.linalg.norm(x[:2], axis=0) + 0.95]\n",
    "@interact\n",
    "def interactive_plot(x=(-5, 5, 0.2), y=(-5, 5, 0.2), th=(-np.pi, np.pi, 0.1), v=(0.1, 1., 0.1), delta=(-1.,1., 0.1)):\n",
    "    state = jnp.array([x, y, th])\n",
    "    control = jnp.array([v, delta])\n",
    "    lin_dyn = dynamics.linearized_dynamics(state, control, time)\n",
    "    \n",
    "\n",
    "    plt.figure(figsize=(10,5))\n",
    "    plt.subplot(1,2,1)\n",
    "    for cbf in cbfs:\n",
    "        plot_cbf(cbf, th, xlim=(-5, 5), ylim=(-5, 5))\n",
    "    plt.quiver(x, y, v * np.cos(th), v * np.sin(th))\n",
    "    plt.axis(\"equal\")\n",
    "\n",
    "    plt.subplot(1,2,2)\n",
    "    for cbf in cbfs:\n",
    "        linear, constant = get_cbf_constraint_rd1(state, time, cbf, alpha, lin_dyn)\n",
    "        plot_halfspace(linear, constant, \">=\", xlim=(-5, 5), ylim=(-5, 5))\n",
    "    plt.scatter(control[:1], control[1:], color=\"black\", label=\"Control\")"
   ]
  },
  {
   "cell_type": "code",
   "execution_count": null,
   "metadata": {},
   "outputs": [],
   "source": []
  }
 ],
 "metadata": {
  "kernelspec": {
   "display_name": "test",
   "language": "python",
   "name": "python3"
  },
  "language_info": {
   "codemirror_mode": {
    "name": "ipython",
    "version": 3
   },
   "file_extension": ".py",
   "mimetype": "text/x-python",
   "name": "python",
   "nbconvert_exporter": "python",
   "pygments_lexer": "ipython3",
   "version": "3.12.4"
  }
 },
 "nbformat": 4,
 "nbformat_minor": 2
}
